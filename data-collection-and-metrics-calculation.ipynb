{
 "cells": [
  {
   "cell_type": "code",
   "execution_count": 1,
   "id": "0396637d",
   "metadata": {},
   "outputs": [],
   "source": [
    "import re\n",
    "import time\n",
    "from datetime import datetime\n",
    "\n",
    "import numpy as np\n",
    "import pandas as pd\n",
    "import snscrape.modules.twitter as sntwitter\n",
    "from scipy.special import softmax\n",
    "from transformers import (AutoConfig, AutoModelForSequenceClassification,\n",
    "                          AutoTokenizer)"
   ]
  },
  {
   "attachments": {},
   "cell_type": "markdown",
   "id": "af5213b7",
   "metadata": {},
   "source": [
    "# 1. Data Scraping (Do Not Run)"
   ]
  },
  {
   "cell_type": "code",
   "execution_count": null,
   "id": "7b423558",
   "metadata": {},
   "outputs": [],
   "source": [
    "def getTweets(account, since, until):\n",
    "    tweets = []\n",
    "    # Call scraper to collect data\n",
    "    since = since.strftime(\"%Y-%m-%d\")\n",
    "    until = until.strftime(\"%Y-%m-%d\")\n",
    "\n",
    "    for tweet in sntwitter.TwitterSearchScraper(f\"from:{account} since:{since} until:{until} exclude:replies\").get_items():\n",
    "        data = {\n",
    "            \"url\": tweet.url,\n",
    "            \"date\": tweet.date,\n",
    "            \"rawContent\": tweet.rawContent,\n",
    "            \"tweetId\": tweet.id,\n",
    "            \"username\": tweet.user.username,\n",
    "            \"userId\": tweet.user.id,\n",
    "            \"userDisplayName\": tweet.user.displayname,\n",
    "            \"userVerified\": tweet.user.verified,\n",
    "            \"replyCount\": tweet.replyCount,\n",
    "            \"retweetCount\": tweet.retweetCount, \n",
    "            \"likeCount\": tweet.likeCount, \n",
    "            \"quoteCount\": tweet.quoteCount,\n",
    "            \"conversationId\": tweet.conversationId,\n",
    "            \"lang\": tweet.lang,\n",
    "            \"sourceUrl\": tweet.sourceUrl,\n",
    "            \"sourceLabel\": tweet.sourceLabel,\n",
    "            \"retweetedTweet\": tweet.retweetedTweet,\n",
    "            \"quotedTweet\": tweet.quotedTweet,\n",
    "            \"inReplyToTweetId\": tweet.inReplyToTweetId,\n",
    "            \"inReplyToUser\": tweet.inReplyToUser,\n",
    "            \"coordinates\": tweet.coordinates,\n",
    "            \"place\": tweet.place,\n",
    "            \"hashtags\": tweet.hashtags,\n",
    "            \"cashtags\": tweet.cashtags,\n",
    "            \"card\": tweet.card,\n",
    "            \"viewCount\": tweet.viewCount,\n",
    "            \"vibe\": tweet.vibe,\n",
    "            \"bookmarkCount\": tweet.bookmarkCount,\n",
    "            \"pinned\": tweet.pinned,\n",
    "            \"conversationControlPolicy\": tweet.conversationControlPolicy.value\n",
    "        }\n",
    "\n",
    "        tweets.append(data)\n",
    "\n",
    "    # Convert to DataFrame\n",
    "    df = pd.DataFrame(tweets)\n",
    "\n",
    "    # Save the DataFrame\n",
    "    filePath = f\"./Datasets/Tweets/{account}_tweets_from_{since}_to_{until}.csv\"\n",
    "    df.to_csv(filePath, index=False)\n",
    "    print(f\"Saved to {filePath}\")\n",
    "\n",
    "    # Display the DataFrame\n",
    "    display(df.head(3))"
   ]
  },
  {
   "cell_type": "code",
   "execution_count": null,
   "id": "9045a984",
   "metadata": {},
   "outputs": [],
   "source": [
    "def getMentioned(account, since, until):\n",
    "    tweets = []\n",
    "    since = since.strftime(\"%Y-%m-%d\")\n",
    "    until = until.strftime(\"%Y-%m-%d\")\n",
    "\n",
    "    # Call scraper to collect data\n",
    "    for tweet in sntwitter.TwitterSearchScraper(f\"to:{account} since:{since} until:{until}\").get_items():\n",
    "        data = {\n",
    "            \"url\": tweet.url,\n",
    "            \"date\": tweet.date,\n",
    "            \"rawContent\": tweet.rawContent,\n",
    "            \"tweetId\": tweet.id,\n",
    "            \"username\": tweet.user.username,\n",
    "            \"userId\": tweet.user.id,\n",
    "            \"userDisplayName\": tweet.user.displayname,\n",
    "            \"userVerified\": tweet.user.verified,\n",
    "            \"replyCount\": tweet.replyCount,\n",
    "            \"retweetCount\": tweet.retweetCount, \n",
    "            \"likeCount\": tweet.likeCount, \n",
    "            \"quoteCount\": tweet.quoteCount,\n",
    "            \"conversationId\": tweet.conversationId,\n",
    "            \"lang\": tweet.lang,\n",
    "            \"sourceUrl\": tweet.sourceUrl,\n",
    "            \"sourceLabel\": tweet.sourceLabel,\n",
    "            \"retweetedTweet\": tweet.retweetedTweet,\n",
    "            \"quotedTweet\": tweet.quotedTweet,\n",
    "            \"inReplyToTweetId\": tweet.inReplyToTweetId,\n",
    "            \"inReplyToUser\": tweet.inReplyToUser,\n",
    "            \"coordinates\": tweet.coordinates,\n",
    "            \"place\": tweet.place,\n",
    "            \"hashtags\": tweet.hashtags,\n",
    "            \"cashtags\": tweet.cashtags,\n",
    "            \"card\": tweet.card,\n",
    "            \"viewCount\": tweet.viewCount,\n",
    "            \"vibe\": tweet.vibe,\n",
    "            \"bookmarkCount\": tweet.bookmarkCount, \n",
    "            \"pinned\": tweet.pinned,\n",
    "            \"conversationControlPolicy\": tweet.conversationControlPolicy.value\n",
    "        }\n",
    "\n",
    "        tweets.append(data)\n",
    "\n",
    "    # Convert to DataFrame\n",
    "    df = pd.DataFrame(tweets)\n",
    "\n",
    "    # Save the DataFrame\n",
    "    filePath = f\"./Datasets/Mentioned/{account}_mentioned_from_{since}_to_{until}.csv\"\n",
    "    df.to_csv(filePath, index=False)\n",
    "    print(f\"Saved to {filePath}\")\n",
    "\n",
    "    # Display the DataFrame\n",
    "    display(df.head(3))"
   ]
  },
  {
   "cell_type": "code",
   "execution_count": null,
   "id": "ed58bc57",
   "metadata": {},
   "outputs": [],
   "source": [
    "def getTweetsAndReplies(account, since, until):\n",
    "    tweets = []\n",
    "    # Call scraper to collect data\n",
    "    since = since.strftime(\"%Y-%m-%d\")\n",
    "    until = until.strftime(\"%Y-%m-%d\")\n",
    "\n",
    "    for tweet in sntwitter.TwitterSearchScraper(f\"from:{account} since:{since} until:{until}\").get_items():\n",
    "        data = {\n",
    "            \"url\": tweet.url,\n",
    "            \"date\": tweet.date,\n",
    "            \"rawContent\": tweet.rawContent,\n",
    "            \"tweetId\": tweet.id,\n",
    "            \"username\": tweet.user.username,\n",
    "            \"userId\": tweet.user.id,\n",
    "            \"userDisplayName\": tweet.user.displayname,\n",
    "            \"userVerified\": tweet.user.verified,\n",
    "            \"replyCount\": tweet.replyCount,\n",
    "            \"retweetCount\": tweet.retweetCount, \n",
    "            \"likeCount\": tweet.likeCount, \n",
    "            \"quoteCount\": tweet.quoteCount,\n",
    "            \"conversationId\": tweet.conversationId,\n",
    "            \"lang\": tweet.lang,\n",
    "            \"sourceUrl\": tweet.sourceUrl,\n",
    "            \"sourceLabel\": tweet.sourceLabel,\n",
    "            \"retweetedTweet\": tweet.retweetedTweet,\n",
    "            \"quotedTweet\": tweet.quotedTweet,\n",
    "            \"inReplyToTweetId\": tweet.inReplyToTweetId,\n",
    "            \"inReplyToUser\": tweet.inReplyToUser,\n",
    "            \"coordinates\": tweet.coordinates,\n",
    "            \"place\": tweet.place,\n",
    "            \"hashtags\": tweet.hashtags,\n",
    "            \"cashtags\": tweet.cashtags,\n",
    "            \"card\": tweet.card,\n",
    "            \"viewCount\": tweet.viewCount,\n",
    "            \"vibe\": tweet.vibe,\n",
    "            \"bookmarkCount\": tweet.bookmarkCount,\n",
    "            \"pinned\": tweet.pinned,\n",
    "            \"conversationControlPolicy\": tweet.conversationControlPolicy.value\n",
    "        }\n",
    "\n",
    "        tweets.append(data)\n",
    "\n",
    "    # Convert to DataFrame\n",
    "    df = pd.DataFrame(tweets)\n",
    "\n",
    "    # Save the DataFrame\n",
    "    filePath = f\"./Datasets/SA_Data/{account}_tweets_from_{since}_to_{until}.csv\"\n",
    "    df.to_csv(filePath, index=False)\n",
    "    print(f\"Saved to {filePath}\")\n",
    "\n",
    "    # Display the DataFrame\n",
    "    display(df.head(3))"
   ]
  },
  {
   "attachments": {},
   "cell_type": "markdown",
   "id": "83195391",
   "metadata": {},
   "source": [
    "### -------------------\n",
    "### Tweets\n",
    "### -------------------\n",
    "- Collected from 1 June 2022 - 31 May 2023 for all 5 brands\n",
    "- Saved in `./Datasets/Tweets`"
   ]
  },
  {
   "attachments": {},
   "cell_type": "markdown",
   "id": "fa3ac497",
   "metadata": {},
   "source": [
    "##### Sprite"
   ]
  },
  {
   "cell_type": "code",
   "execution_count": null,
   "id": "c0cf652f",
   "metadata": {},
   "outputs": [],
   "source": [
    "getTweets(\"Sprite\", datetime(2022, 6, 1), datetime(2023, 5, 31))"
   ]
  },
  {
   "attachments": {},
   "cell_type": "markdown",
   "id": "a93b189d",
   "metadata": {},
   "source": [
    "##### CocaCola"
   ]
  },
  {
   "cell_type": "code",
   "execution_count": null,
   "id": "d6c66205",
   "metadata": {},
   "outputs": [],
   "source": [
    "getTweets(\"CocaCola\", datetime(2022, 6, 1), datetime(2023, 5, 31))"
   ]
  },
  {
   "attachments": {},
   "cell_type": "markdown",
   "id": "46a4cdc1",
   "metadata": {},
   "source": [
    "##### PrimeHydrate"
   ]
  },
  {
   "cell_type": "code",
   "execution_count": null,
   "id": "8882968a",
   "metadata": {},
   "outputs": [],
   "source": [
    "getTweets(\"PrimeHydrate\", datetime(2022, 6, 1), datetime(2023, 5, 31))"
   ]
  },
  {
   "attachments": {},
   "cell_type": "markdown",
   "id": "1055993d",
   "metadata": {},
   "source": [
    "##### fanta"
   ]
  },
  {
   "cell_type": "code",
   "execution_count": null,
   "id": "4ce43b46",
   "metadata": {},
   "outputs": [],
   "source": [
    "getTweets(\"Fanta\", datetime(2022, 6, 1), datetime(2023, 5, 31))"
   ]
  },
  {
   "attachments": {},
   "cell_type": "markdown",
   "id": "2cc24423",
   "metadata": {},
   "source": [
    "##### pepsi"
   ]
  },
  {
   "cell_type": "code",
   "execution_count": null,
   "id": "f3077776",
   "metadata": {},
   "outputs": [],
   "source": [
    "getTweets(\"Pepsi\", datetime(2022, 6, 1), datetime(2023, 5, 31))"
   ]
  },
  {
   "attachments": {},
   "cell_type": "markdown",
   "id": "ffa1fa13",
   "metadata": {},
   "source": [
    "### -----------\n",
    "### Mentioned\n",
    "### -----------\n",
    "- Collected from 1 May 2023 - 31 May 2023 for all 5 brands\n",
    "- Saved in `./Datasets/Mentioned`"
   ]
  },
  {
   "attachments": {},
   "cell_type": "markdown",
   "id": "4942c307",
   "metadata": {},
   "source": [
    "##### Sprite"
   ]
  },
  {
   "cell_type": "code",
   "execution_count": null,
   "id": "7164fd0d",
   "metadata": {},
   "outputs": [],
   "source": [
    "getMentioned(\"Sprite\", datetime(2023, 5, 1), datetime(2023, 5, 31))"
   ]
  },
  {
   "attachments": {},
   "cell_type": "markdown",
   "id": "45233d7e",
   "metadata": {},
   "source": [
    "##### CocaCola"
   ]
  },
  {
   "cell_type": "code",
   "execution_count": null,
   "id": "0f7aea73",
   "metadata": {},
   "outputs": [],
   "source": [
    "getMentioned(\"CocaCola\", datetime(2023, 5, 1), datetime(2023, 5, 31))"
   ]
  },
  {
   "attachments": {},
   "cell_type": "markdown",
   "id": "43219992",
   "metadata": {},
   "source": [
    "##### PrimeHydrate"
   ]
  },
  {
   "cell_type": "code",
   "execution_count": null,
   "id": "5bb2647c",
   "metadata": {},
   "outputs": [],
   "source": [
    "getMentioned(\"PrimeHydrate\", datetime(2023, 5, 1), datetime(2023, 5, 31))"
   ]
  },
  {
   "attachments": {},
   "cell_type": "markdown",
   "id": "6a3086ff",
   "metadata": {},
   "source": [
    "##### fanta"
   ]
  },
  {
   "cell_type": "code",
   "execution_count": null,
   "id": "2f96c7d6",
   "metadata": {},
   "outputs": [],
   "source": [
    "getMentioned(\"Fanta\", datetime(2023, 5, 1), datetime(2023, 5, 31))"
   ]
  },
  {
   "attachments": {},
   "cell_type": "markdown",
   "id": "c564affe",
   "metadata": {},
   "source": [
    "##### pepsi"
   ]
  },
  {
   "cell_type": "code",
   "execution_count": null,
   "id": "711d80f8",
   "metadata": {},
   "outputs": [],
   "source": [
    "getMentioned(\"Pepsi\", datetime(2023, 5, 1), datetime(2023, 5, 31))"
   ]
  },
  {
   "attachments": {},
   "cell_type": "markdown",
   "id": "7a1fc305",
   "metadata": {},
   "source": [
    "### -----------\n",
    "### Tweets and Replies\n",
    "### ------------ \n",
    "\n",
    "- Collected from 1 Dec 2022 - 31 May 2023 for all 5 brands\n",
    "- Saved in `./Datasets/SA_Data`"
   ]
  },
  {
   "attachments": {},
   "cell_type": "markdown",
   "id": "bf7d38e9",
   "metadata": {},
   "source": [
    "##### Sprite"
   ]
  },
  {
   "cell_type": "code",
   "execution_count": null,
   "id": "8282232e",
   "metadata": {},
   "outputs": [],
   "source": [
    "getTweetsAndReplies(\"Sprite\", datetime(2022, 12, 1), datetime(2023, 5, 31))"
   ]
  },
  {
   "attachments": {},
   "cell_type": "markdown",
   "id": "c88c2079",
   "metadata": {},
   "source": [
    "##### CocaCola"
   ]
  },
  {
   "cell_type": "code",
   "execution_count": null,
   "id": "1b855ca4",
   "metadata": {},
   "outputs": [],
   "source": [
    "getTweetsAndReplies(\"CocaCola\", datetime(2022, 12, 1), datetime(2023, 5, 31))"
   ]
  },
  {
   "attachments": {},
   "cell_type": "markdown",
   "id": "e1926557",
   "metadata": {},
   "source": [
    "##### PrimeHydrate"
   ]
  },
  {
   "cell_type": "code",
   "execution_count": null,
   "id": "f16021ea",
   "metadata": {},
   "outputs": [],
   "source": [
    "getTweetsAndReplies(\"PrimeHydrate\", datetime(2022, 12, 1), datetime(2023, 5, 31))"
   ]
  },
  {
   "attachments": {},
   "cell_type": "markdown",
   "id": "55711976",
   "metadata": {},
   "source": [
    "##### Fanta"
   ]
  },
  {
   "cell_type": "code",
   "execution_count": null,
   "id": "4d034c26",
   "metadata": {},
   "outputs": [],
   "source": [
    "getTweetsAndReplies(\"Fanta\", datetime(2022, 12, 1), datetime(2023, 5, 31))"
   ]
  },
  {
   "attachments": {},
   "cell_type": "markdown",
   "id": "fef25813",
   "metadata": {},
   "source": [
    "##### Pepsi"
   ]
  },
  {
   "cell_type": "code",
   "execution_count": null,
   "id": "c1abec01",
   "metadata": {},
   "outputs": [],
   "source": [
    "getTweetsAndReplies(\"Pepsi\", datetime(2022, 12, 1), datetime(2023, 5, 31))"
   ]
  },
  {
   "attachments": {},
   "cell_type": "markdown",
   "id": "5a45ba95",
   "metadata": {},
   "source": [
    "# 2. Calculate Metrics"
   ]
  },
  {
   "cell_type": "code",
   "execution_count": 2,
   "id": "90091360",
   "metadata": {},
   "outputs": [],
   "source": [
    "def getBrand(filePath):\n",
    "    pattern = r\"(\\w+)_[tweets|mentioned]\"\n",
    "    matches = re.search(pattern, filePath)\n",
    "\n",
    "    if matches:\n",
    "        return matches.group(1)\n",
    "    raise ValueError(f\"No brand found in the filePath '{filePath}'\")"
   ]
  },
  {
   "cell_type": "code",
   "execution_count": 3,
   "id": "420adac5",
   "metadata": {},
   "outputs": [],
   "source": [
    "def getSinceUntilDate(filePath):\n",
    "    # Extract the dates using regular expressions\n",
    "    pattern = r\"from_(\\d{4}-\\d{2}-\\d{2})_to_(\\d{4}-\\d{2}-\\d{2})\"\n",
    "    matches = re.search(pattern, filePath)\n",
    "\n",
    "    if matches:\n",
    "        since = datetime.strptime(matches.group(1), \"%Y-%m-%d\")\n",
    "        until = datetime.strptime(matches.group(2), \"%Y-%m-%d\")\n",
    "        return since, until\n",
    "    else:\n",
    "        raise ValueError(f\"No dates found in the filePath '{filePath}'\")\n"
   ]
  },
  {
   "attachments": {},
   "cell_type": "markdown",
   "id": "13c8d79a",
   "metadata": {},
   "source": [
    "#### 1. Sentiment Score\n",
    "- Apply [Twitter-roBERTa-base model for Sentiment Analysis\n",
    "](https://huggingface.co/cardiffnlp/twitter-roberta-base-sentiment)\n",
    "- *Take very long time to run*"
   ]
  },
  {
   "cell_type": "code",
   "execution_count": null,
   "id": "50b62a6a",
   "metadata": {},
   "outputs": [],
   "source": [
    "# Inference\n",
    "start_time = time.time()\n",
    "\n",
    "MODEL = \"cardiffnlp/twitter-roberta-base-sentiment-latest\"\n",
    "tokenizer = AutoTokenizer.from_pretrained(MODEL)\n",
    "config = AutoConfig.from_pretrained(MODEL)\n",
    "model = AutoModelForSequenceClassification.from_pretrained(MODEL)\n",
    "\n",
    "df_lists = ['cc', 'fanta', 'pepsi', 'ph', 'sprite']\n",
    "\n",
    "for df_list in df_lists:\n",
    "    try :\n",
    "      df = pd.read_csv(f'./Datasets/SA_Data/{df_list}.csv')\n",
    "      print(\"Working on: \", df_list) \n",
    "      df['text'] = df['rawContent'].str.replace('@user', '')\n",
    "      df['pred'] = 0\n",
    "\n",
    "      output = model(**tokenizer(df['text'].tolist(), padding=True, truncation=True, return_tensors=\"pt\"))\n",
    "\n",
    "      for i in range(df.shape[0]):\n",
    "            scores = output[0][i].detach().numpy()\n",
    "            scores = softmax(scores)\n",
    "            ranking = np.argsort(scores)\n",
    "            ranking = ranking[::-1]\n",
    "            print(ranking)\n",
    "\n",
    "            df['pred'][i] = ranking[0]\n",
    "\n",
    "      df.to_csv(f'./SA_Pred/{df_list}_pred.csv', index=False)\n",
    "      print(\"Time taken: \", time.time() - start_time)\n",
    "\n",
    "    except Exception as e:\n",
    "      print('Failed on: ', df_list)\n",
    "      print(e)\n"
   ]
  },
  {
   "cell_type": "code",
   "execution_count": 4,
   "id": "f6770640",
   "metadata": {},
   "outputs": [],
   "source": [
    "# Analysis\n",
    "def getAvgPositiveSentimentScore(df):\n",
    "    df = df[[\"pred\"]]\n",
    "    average = df[df[\"pred\"] == 2].count() / df.count()\n",
    "\n",
    "    print(f\"Average Positive Score: {int(average * 100)}%\")"
   ]
  },
  {
   "attachments": {},
   "cell_type": "markdown",
   "id": "83ec5eb6",
   "metadata": {},
   "source": [
    "### 2. Tweet Impression"
   ]
  },
  {
   "cell_type": "code",
   "execution_count": 5,
   "id": "0ddb6234",
   "metadata": {},
   "outputs": [],
   "source": [
    "def getTweetImpression(df):\n",
    "    totalTweets = df.shape[0]\n",
    "    print(f\"Total Tweets: {totalTweets}\")\n",
    "\n",
    "    totalViews = df[\"viewCount\"].sum()\n",
    "    print(f\"Total Views: {totalViews}\")\n",
    "\n",
    "    avgViewsPerTweet = round(totalViews / totalTweets, 2)\n",
    "    print(f\"Impression: {avgViewsPerTweet}\")\n",
    "\n",
    "    return avgViewsPerTweet"
   ]
  },
  {
   "attachments": {},
   "cell_type": "markdown",
   "id": "bd05dc5e",
   "metadata": {},
   "source": [
    "#### 3. Tweeting Frequency"
   ]
  },
  {
   "cell_type": "code",
   "execution_count": 6,
   "id": "546a6a0e",
   "metadata": {},
   "outputs": [],
   "source": [
    "def getNumTweetsPerDay(df, since, until):\n",
    "    totalDays =  (until - since).days\n",
    "    print(f\"Total Days: {totalDays}\")\n",
    "\n",
    "    totalTweets = df.shape[0]\n",
    "    print(f\"Total Tweets: {totalTweets}\")\n",
    "\n",
    "    numTweetsPerDay = round(totalTweets / totalDays, 2)\n",
    "    print(f\"Number of Tweets per Day: {numTweetsPerDay}\")\n",
    "\n",
    "    return numTweetsPerDay"
   ]
  },
  {
   "attachments": {},
   "cell_type": "markdown",
   "id": "834625aa",
   "metadata": {},
   "source": [
    "#### 4. Average Engagement Rate"
   ]
  },
  {
   "cell_type": "code",
   "execution_count": 7,
   "id": "596d53c4",
   "metadata": {},
   "outputs": [],
   "source": [
    "def getAvgEngagementRatePerTweetByFollowers(df, totalFollowers):\n",
    "    # Total Likes\n",
    "    totalLikes = df[\"likeCount\"].sum()\n",
    "    print(f\"Total Likes: {totalLikes}\")\n",
    "\n",
    "    # Total Retweets\n",
    "    totalRetweets = df[\"retweetCount\"].sum()\n",
    "    print(f\"Total Retweets: {totalRetweets}\")\n",
    "\n",
    "    # Total Tweets\n",
    "    totalTweets = df.shape[0]\n",
    "    print(f\"Total Tweets: {totalTweets}\")\n",
    "\n",
    "    avgEngagementRate = round(((totalLikes + totalRetweets) / totalTweets) / totalFollowers, 2) * 100\n",
    "\n",
    "    result = \"\"\n",
    "    if avgEngagementRate < 0.5:\n",
    "        result = \"Poor\"\n",
    "    elif avgEngagementRate >= 0.5 and avgEngagementRate <= 1:\n",
    "        result = \"Average\"\n",
    "    else:\n",
    "        result = \"Excellent\"\n",
    "    print(f\"Average Engagement Rate: {avgEngagementRate}% ({result})\")\n",
    "\n",
    "    return avgEngagementRate"
   ]
  },
  {
   "attachments": {},
   "cell_type": "markdown",
   "id": "6c240312",
   "metadata": {},
   "source": [
    "#### 5. Daily Brand Mention"
   ]
  },
  {
   "cell_type": "code",
   "execution_count": 8,
   "id": "d1687c3f",
   "metadata": {},
   "outputs": [],
   "source": [
    "def getAvgMentionedPerDay(df, since, until):\n",
    "    totalDays =  (until - since).days\n",
    "    print(f\"Total Days: {totalDays}\")\n",
    "\n",
    "    totalMentioned = df.shape[0]\n",
    "    print(f\"Total Mentioned: {totalMentioned}\")\n",
    "\n",
    "    numMentionedPerDay = round(totalMentioned / totalDays, 2)\n",
    "    print(f\"Number of Mentioned per Day: {numMentionedPerDay}\")\n",
    "\n",
    "    return numMentionedPerDay"
   ]
  },
  {
   "attachments": {},
   "cell_type": "markdown",
   "id": "3a7f666a",
   "metadata": {},
   "source": [
    "#### Function to Run All Metrics"
   ]
  },
  {
   "cell_type": "code",
   "execution_count": 9,
   "id": "fd82dc59",
   "metadata": {},
   "outputs": [],
   "source": [
    "def getMetrics(predPath, tweetPath, mentionedPath, totalFollowers):\n",
    "    brand = getBrand(tweetPath)\n",
    "    print()\n",
    "    print(\"----------------------------------------\")\n",
    "    print(f\"{brand}\")\n",
    "    print(\"----------------------------------------\")\n",
    "\n",
    "    print(f\"Reading from '{predPath}'\")\n",
    "    print(f\"Reading from '{tweetPath}'\")\n",
    "    print(f\"Reading from '{mentionedPath}'\")\n",
    "\n",
    "    dfPred = pd.read_csv(predPath)\n",
    "    print(\"\\nMetric 1: Average Positive Sentiment Score\")\n",
    "    getAvgPositiveSentimentScore(dfPred)\n",
    "\n",
    "    dfTweets = pd.read_csv(tweetPath)\n",
    "    dfTweets[\"date\"] = pd.to_datetime(dfTweets[\"date\"]).dt.date # convert date to datetime object\n",
    "    sinceT, untilT  = getSinceUntilDate(tweetPath) # get start and end date\n",
    "    print(\"\\nMetric 2: Tweet Impression\")\n",
    "    getTweetImpression(dfTweets)\n",
    "    print(\"\\nMetric 3: Number of Tweets per Day\")\n",
    "    getNumTweetsPerDay(dfTweets, sinceT, untilT)\n",
    "    print(\"\\nMetric 4: Average Engagement Rate per Tweet by Followers\")\n",
    "    getAvgEngagementRatePerTweetByFollowers(dfTweets, totalFollowers)\n",
    "\n",
    "    dfMentioned = pd.read_csv(mentionedPath)\n",
    "    dfMentioned[\"date\"] = pd.to_datetime(dfMentioned[\"date\"]).dt.date # convert date to datetime object\n",
    "    sinceM, untilM  = getSinceUntilDate(mentionedPath) # get start and end date\n",
    "    print(\"\\nMetric 5: Average Mentioned per Day\")\n",
    "    getAvgMentionedPerDay(dfMentioned, sinceM, untilM)\n"
   ]
  },
  {
   "attachments": {},
   "cell_type": "markdown",
   "id": "e15153c6",
   "metadata": {},
   "source": [
    "#### Cell to Get The Metrics' Result"
   ]
  },
  {
   "cell_type": "code",
   "execution_count": 10,
   "id": "3f20dd97",
   "metadata": {},
   "outputs": [
    {
     "name": "stdout",
     "output_type": "stream",
     "text": [
      "\n",
      "----------------------------------------\n",
      "CocaCola\n",
      "----------------------------------------\n",
      "Reading from './Datasets/SA_Pred/cc_pred.csv'\n",
      "Reading from './Datasets/Tweets/CocaCola_tweets_from_2022-06-01_to_2023-05-31.csv'\n",
      "Reading from './Datasets/Mentioned/CocaCola_mentioned_from_2023-05-01_to_2023-05-31.csv'\n",
      "\n",
      "Metric 1: Average Positive Sentiment Score\n",
      "Average Positive Score: 42%\n",
      "\n",
      "Metric 2: Tweet Impression\n",
      "Total Tweets: 82\n",
      "Total Views: 1684887.0\n",
      "Impression: 20547.4\n",
      "\n",
      "Metric 3: Number of Tweets per Day\n",
      "Total Days: 364\n",
      "Total Tweets: 82\n",
      "Number of Tweets per Day: 0.23\n",
      "\n",
      "Metric 4: Average Engagement Rate per Tweet by Followers\n",
      "Total Likes: 18561\n",
      "Total Retweets: 3682\n",
      "Total Tweets: 82\n",
      "Average Engagement Rate: 0.0% (Poor)\n",
      "\n",
      "Metric 5: Average Mentioned per Day\n",
      "Total Days: 30\n",
      "Total Mentioned: 175\n",
      "Number of Mentioned per Day: 5.83\n",
      "\n",
      "----------------------------------------\n",
      "Fanta\n",
      "----------------------------------------\n",
      "Reading from './Datasets/SA_Pred/fanta_pred.csv'\n",
      "Reading from './Datasets/Tweets/Fanta_tweets_from_2022-06-01_to_2023-05-31.csv'\n",
      "Reading from './Datasets/Mentioned/Fanta_mentioned_from_2023-05-01_to_2023-05-31.csv'\n",
      "\n",
      "Metric 1: Average Positive Sentiment Score\n",
      "Average Positive Score: 56%\n",
      "\n",
      "Metric 2: Tweet Impression\n",
      "Total Tweets: 83\n",
      "Total Views: 166698.0\n",
      "Impression: 2008.41\n",
      "\n",
      "Metric 3: Number of Tweets per Day\n",
      "Total Days: 364\n",
      "Total Tweets: 83\n",
      "Number of Tweets per Day: 0.23\n",
      "\n",
      "Metric 4: Average Engagement Rate per Tweet by Followers\n",
      "Total Likes: 2969\n",
      "Total Retweets: 452\n",
      "Total Tweets: 83\n",
      "Average Engagement Rate: 0.0% (Poor)\n",
      "\n",
      "Metric 5: Average Mentioned per Day\n",
      "Total Days: 30\n",
      "Total Mentioned: 210\n",
      "Number of Mentioned per Day: 7.0\n",
      "\n",
      "----------------------------------------\n",
      "Pepsi\n",
      "----------------------------------------\n",
      "Reading from './Datasets/SA_Pred/pepsi_pred.csv'\n",
      "Reading from './Datasets/Tweets/Pepsi_tweets_from_2022-06-01_to_2023-05-31.csv'\n",
      "Reading from './Datasets/Mentioned/Pepsi_mentioned_from_2023-05-01_to_2023-05-31.csv'\n",
      "\n",
      "Metric 1: Average Positive Sentiment Score\n",
      "Average Positive Score: 49%\n",
      "\n",
      "Metric 2: Tweet Impression\n",
      "Total Tweets: 314\n",
      "Total Views: 279531451.0\n",
      "Impression: 890227.55\n",
      "\n",
      "Metric 3: Number of Tweets per Day\n",
      "Total Days: 364\n",
      "Total Tweets: 314\n",
      "Number of Tweets per Day: 0.86\n",
      "\n",
      "Metric 4: Average Engagement Rate per Tweet by Followers\n",
      "Total Likes: 166337\n",
      "Total Retweets: 23067\n",
      "Total Tweets: 314\n",
      "Average Engagement Rate: 0.0% (Poor)\n",
      "\n",
      "Metric 5: Average Mentioned per Day\n",
      "Total Days: 30\n",
      "Total Mentioned: 560\n",
      "Number of Mentioned per Day: 18.67\n",
      "\n",
      "----------------------------------------\n",
      "PrimeHydrate\n",
      "----------------------------------------\n",
      "Reading from './Datasets/SA_Pred/ph_pred.csv'\n",
      "Reading from './Datasets/Tweets/PrimeHydrate_tweets_from_2022-06-01_to_2023-05-31.csv'\n",
      "Reading from './Datasets/Mentioned/PrimeHydrate_mentioned_from_2023-05-01_to_2023-05-31.csv'\n",
      "\n",
      "Metric 1: Average Positive Sentiment Score\n",
      "Average Positive Score: 47%\n",
      "\n",
      "Metric 2: Tweet Impression\n",
      "Total Tweets: 189\n",
      "Total Views: 71545456.0\n",
      "Impression: 378547.39\n",
      "\n",
      "Metric 3: Number of Tweets per Day\n",
      "Total Days: 364\n",
      "Total Tweets: 189\n",
      "Number of Tweets per Day: 0.52\n",
      "\n",
      "Metric 4: Average Engagement Rate per Tweet by Followers\n",
      "Total Likes: 1096554\n",
      "Total Retweets: 63165\n",
      "Total Tweets: 189\n",
      "Average Engagement Rate: 2.0% (Excellent)\n",
      "\n",
      "Metric 5: Average Mentioned per Day\n",
      "Total Days: 30\n",
      "Total Mentioned: 2169\n",
      "Number of Mentioned per Day: 72.3\n",
      "\n",
      "----------------------------------------\n",
      "Sprite\n",
      "----------------------------------------\n",
      "Reading from './Datasets/SA_Pred/sprite_pred.csv'\n",
      "Reading from './Datasets/Tweets/Sprite_tweets_from_2022-06-01_to_2023-05-31.csv'\n",
      "Reading from './Datasets/Mentioned/Sprite_mentioned_from_2023-05-01_to_2023-05-31.csv'\n",
      "\n",
      "Metric 1: Average Positive Sentiment Score\n",
      "Average Positive Score: 53%\n",
      "\n",
      "Metric 2: Tweet Impression\n",
      "Total Tweets: 77\n",
      "Total Views: 792683.0\n",
      "Impression: 10294.58\n",
      "\n",
      "Metric 3: Number of Tweets per Day\n",
      "Total Days: 364\n",
      "Total Tweets: 77\n",
      "Number of Tweets per Day: 0.21\n",
      "\n",
      "Metric 4: Average Engagement Rate per Tweet by Followers\n",
      "Total Likes: 6217\n",
      "Total Retweets: 1095\n",
      "Total Tweets: 77\n",
      "Average Engagement Rate: 0.0% (Poor)\n",
      "\n",
      "Metric 5: Average Mentioned per Day\n",
      "Total Days: 30\n",
      "Total Mentioned: 157\n",
      "Number of Mentioned per Day: 5.23\n"
     ]
    }
   ],
   "source": [
    "predPaths = [\n",
    "   \"./Datasets/SA_Pred/cc_pred.csv\",\n",
    "   \"./Datasets/SA_Pred/fanta_pred.csv\",\n",
    "   \"./Datasets/SA_Pred/pepsi_pred.csv\",\n",
    "   \"./Datasets/SA_Pred/ph_pred.csv\",\n",
    "   \"./Datasets/SA_Pred/sprite_pred.csv\",\n",
    "]\n",
    "\n",
    "tweetPaths = [\n",
    "    \"./Datasets/Tweets/CocaCola_tweets_from_2022-06-01_to_2023-05-31.csv\",\n",
    "    \"./Datasets/Tweets/Fanta_tweets_from_2022-06-01_to_2023-05-31.csv\",\n",
    "    \"./Datasets/Tweets/Pepsi_tweets_from_2022-06-01_to_2023-05-31.csv\",\n",
    "    \"./Datasets/Tweets/PrimeHydrate_tweets_from_2022-06-01_to_2023-05-31.csv\",\n",
    "    \"./Datasets/Tweets/Sprite_tweets_from_2022-06-01_to_2023-05-31.csv\"\n",
    "]\n",
    "\n",
    "mentionedPaths = [\n",
    "    \"./Datasets/Mentioned/CocaCola_mentioned_from_2023-05-01_to_2023-05-31.csv\",\n",
    "    \"./Datasets/Mentioned/Fanta_mentioned_from_2023-05-01_to_2023-05-31.csv\",\n",
    "    \"./Datasets/Mentioned/Pepsi_mentioned_from_2023-05-01_to_2023-05-31.csv\",\n",
    "    \"./Datasets/Mentioned/PrimeHydrate_mentioned_from_2023-05-01_to_2023-05-31.csv\",\n",
    "    \"./Datasets/Mentioned/Sprite_mentioned_from_2023-05-01_to_2023-05-31.csv\"\n",
    "]\n",
    "\n",
    "# Collected manually from Social Blade as of 30 June\n",
    "totalFollowersList = [\n",
    "    3371668, # cola\n",
    "    156346, # fanta\n",
    "    3085508, # pepsi\n",
    "    391154, # prime hydrate\n",
    "    299037 # sprite\n",
    "]\n",
    "\n",
    "for i in range(5):\n",
    "    getMetrics(predPaths[i], tweetPaths[i], mentionedPaths[i], totalFollowersList[i])"
   ]
  }
 ],
 "metadata": {
  "kernelspec": {
   "display_name": "Python 3 (ipykernel)",
   "language": "python",
   "name": "python3"
  },
  "language_info": {
   "codemirror_mode": {
    "name": "ipython",
    "version": 3
   },
   "file_extension": ".py",
   "mimetype": "text/x-python",
   "name": "python",
   "nbconvert_exporter": "python",
   "pygments_lexer": "ipython3",
   "version": "3.10.9"
  }
 },
 "nbformat": 4,
 "nbformat_minor": 5
}
